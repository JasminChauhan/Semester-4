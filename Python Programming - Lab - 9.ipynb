{
 "cells": [
  {
   "cell_type": "markdown",
   "metadata": {},
   "source": [
    "<a href='https://www.darshan.ac.in/'> <img src='https://www.darshan.ac.in/Content/media/DU_Logo.svg' width=\"250\" height=\"300\"/></a>\n",
    "<pre>\n",
    "<center><b><h1>Python Programming - 2301CS404</b></center>\n",
    "<center><b><h1>Lab - 9</b></center>    \n",
    "<pre>"
   ]
  },
  {
   "cell_type": "markdown",
   "metadata": {},
   "source": [
    "# File I/O"
   ]
  },
  {
   "cell_type": "markdown",
   "metadata": {},
   "source": [
    "### 01) WAP to read and display the contents of a text file. (also try to open the file in some other directory) \n",
    "#### - in the form of a string\n",
    "#### - line by line\n",
    "#### - in the form of a list"
   ]
  },
  {
   "cell_type": "code",
   "execution_count": 13,
   "metadata": {},
   "outputs": [
    {
     "name": "stdout",
     "output_type": "stream",
     "text": [
      "In The Form Of String :  Hello How's going ?\n",
      "this is python lab 9\n"
     ]
    }
   ],
   "source": [
    "#In The Form Of String \n",
    "\n",
    "fp = open(\"file1.txt\")\n",
    "print(\"In The Form Of String : \",fp.read())\n",
    "fp.close()"
   ]
  },
  {
   "cell_type": "code",
   "execution_count": 12,
   "metadata": {},
   "outputs": [
    {
     "name": "stdout",
     "output_type": "stream",
     "text": [
      "In The Form Of List :  [\"Hello How's going ?\\n\", 'this is python lab 9']\n"
     ]
    }
   ],
   "source": [
    "#In The Form Of List\n",
    "\n",
    "fp = open(\"file1.txt\")\n",
    "print(\"In The Form Of List : \",fp.readlines())\n",
    "fp.close()"
   ]
  },
  {
   "cell_type": "code",
   "execution_count": 15,
   "metadata": {},
   "outputs": [
    {
     "name": "stdout",
     "output_type": "stream",
     "text": [
      "Line By Line :  Hello How's going ?\n",
      "\n",
      "Line By Line :  this is python lab 9\n"
     ]
    }
   ],
   "source": [
    "#Line By Line \n",
    "\n",
    "fp = open(\"file1.txt\")\n",
    "for i in fp:\n",
    "    print(\"Line By Line : \",i)\n",
    "fp.close()"
   ]
  },
  {
   "cell_type": "markdown",
   "metadata": {},
   "source": [
    "### 02) WAP to create file named \"new.txt\" only if it doesn't exist."
   ]
  },
  {
   "cell_type": "code",
   "execution_count": 1,
   "metadata": {},
   "outputs": [],
   "source": [
    "fp = open(\"new.txt\",\"w\")\n",
    "fp.close()"
   ]
  },
  {
   "cell_type": "markdown",
   "metadata": {},
   "source": [
    "### 03) WAP to read first 5 lines from the text file."
   ]
  },
  {
   "cell_type": "code",
   "execution_count": 16,
   "metadata": {},
   "outputs": [
    {
     "name": "stdout",
     "output_type": "stream",
     "text": [
      "this is python lab 9\n",
      "\n",
      "cebfcbeibcf\n",
      "\n",
      "vbrbvr\n",
      "\n",
      "vnrtibnoitb\n",
      "\n",
      "vui\n",
      "\n"
     ]
    }
   ],
   "source": [
    "fp = open(\"file1.txt\",\"r\")\n",
    "count = 0\n",
    "for i in fp:\n",
    "    if count <= 5:\n",
    "        print(fp.readline())\n",
    "        count += 1\n",
    "fp.close()   "
   ]
  },
  {
   "cell_type": "markdown",
   "metadata": {},
   "source": [
    "### 04) WAP to find the longest word(s) in a file"
   ]
  },
  {
   "cell_type": "code",
   "execution_count": 28,
   "metadata": {},
   "outputs": [
    {
     "name": "stdout",
     "output_type": "stream",
     "text": [
      "nvfuibviurnvg\n"
     ]
    }
   ],
   "source": [
    "fp = open(\"file1.txt\",\"r\")\n",
    "l1 = fp.read().split()\n",
    "\n",
    "longest_word = max(l1, key = len)\n",
    "print(longest_word)\n",
    "\n",
    "fp.close()"
   ]
  },
  {
   "cell_type": "markdown",
   "metadata": {},
   "source": [
    "### 05) WAP to count the no. of lines, words and characters in a given text file."
   ]
  },
  {
   "cell_type": "code",
   "execution_count": 41,
   "metadata": {},
   "outputs": [
    {
     "name": "stdout",
     "output_type": "stream",
     "text": [
      "Number Of Lines : 10\n",
      "Number Of Characters :  123\n",
      "Number Of Words :  17\n"
     ]
    }
   ],
   "source": [
    "fp = open(\"file1.txt\",\"r\")\n",
    "count_lines = 0\n",
    "count_chars = 0\n",
    "count_words = 0\n",
    "\n",
    "for i in fp.readlines():\n",
    "    count_lines += 1\n",
    "print(\"Number Of Lines :\",count_lines)\n",
    "\n",
    "fp.seek(0)\n",
    "\n",
    "for i in fp.read():\n",
    "    count_chars += 1\n",
    "print(\"Number Of Characters : \",count_chars)\n",
    "\n",
    "fp.seek(0)\n",
    "\n",
    "for i in fp.read().split():\n",
    "    count_words += 1\n",
    "print('Number Of Words : ',count_words)\n",
    "\n",
    "fp.close()"
   ]
  },
  {
   "cell_type": "markdown",
   "metadata": {},
   "source": [
    "### 06) WAP to copy the content of a file to the another file."
   ]
  },
  {
   "cell_type": "code",
   "execution_count": 45,
   "metadata": {},
   "outputs": [],
   "source": [
    "fp = open(\"file1.txt\",\"r\")\n",
    "fp1 = open(\"file2.txt\",\"w\")\n",
    "    \n",
    "fp1.write(fp.read())\n",
    "\n",
    "fp1.close()\n",
    "fp.close()"
   ]
  },
  {
   "cell_type": "markdown",
   "metadata": {},
   "source": [
    "### 07) WAP to find the size of the text file. "
   ]
  },
  {
   "cell_type": "code",
   "execution_count": 47,
   "metadata": {
    "scrolled": true
   },
   "outputs": [
    {
     "name": "stdout",
     "output_type": "stream",
     "text": [
      "123\n"
     ]
    }
   ],
   "source": [
    "fp = open(\"file1.txt\")\n",
    "fp.seek(0,2)\n",
    "print(fp.tell())"
   ]
  },
  {
   "cell_type": "markdown",
   "metadata": {},
   "source": [
    "### 08) WAP to create an UDF named frequency to count occurances of the specific word in a given text file."
   ]
  },
  {
   "cell_type": "code",
   "execution_count": 56,
   "metadata": {},
   "outputs": [
    {
     "name": "stdout",
     "output_type": "stream",
     "text": [
      "2\n"
     ]
    }
   ],
   "source": [
    "fp = open(\"file1.txt\",\"r\")\n",
    "\n",
    "def frequency(word, file1):\n",
    "    freq = 0\n",
    "    for i in fp.read().split():\n",
    "        freq += i.count(word)\n",
    "    print(freq)\n",
    "\n",
    "word = \"Jasmin\"\n",
    "frequency(word,fp)\n",
    "fp.close()"
   ]
  },
  {
   "cell_type": "markdown",
   "metadata": {},
   "source": [
    "### 09) WAP to get the score of five subjects from the user, store them in a file. Fetch those marks and find the highest score."
   ]
  },
  {
   "cell_type": "code",
   "execution_count": 74,
   "metadata": {},
   "outputs": [
    {
     "name": "stdout",
     "output_type": "stream",
     "text": [
      "Enter The Marks Of Subject 1 : 0\n",
      "Enter The Marks Of Subject 2 : 8\n",
      "Enter The Marks Of Subject 3 : 77\n",
      "Enter The Marks Of Subject 4 : 6\n",
      "Enter The Marks Of Subject 5 : 7\n"
     ]
    },
    {
     "ename": "TypeError",
     "evalue": "can only concatenate str (not \"int\") to str",
     "output_type": "error",
     "traceback": [
      "\u001b[1;31m---------------------------------------------------------------------------\u001b[0m",
      "\u001b[1;31mTypeError\u001b[0m                                 Traceback (most recent call last)",
      "Cell \u001b[1;32mIn[74], line 21\u001b[0m\n\u001b[0;32m     19\u001b[0m \u001b[38;5;28mmax\u001b[39m \u001b[38;5;241m=\u001b[39m \u001b[38;5;241m0\u001b[39m\n\u001b[0;32m     20\u001b[0m \u001b[38;5;28;01mfor\u001b[39;00m i \u001b[38;5;129;01min\u001b[39;00m l1:\n\u001b[1;32m---> 21\u001b[0m     \u001b[38;5;28;01mif\u001b[39;00m i \u001b[38;5;241m>\u001b[39m (\u001b[43mi\u001b[49m\u001b[43m \u001b[49m\u001b[38;5;241;43m+\u001b[39;49m\u001b[43m \u001b[49m\u001b[38;5;241;43m1\u001b[39;49m):\n\u001b[0;32m     22\u001b[0m         \u001b[38;5;28mmax\u001b[39m \u001b[38;5;241m=\u001b[39m i\n\u001b[0;32m     23\u001b[0m \u001b[38;5;28mprint\u001b[39m(\u001b[38;5;28mmax\u001b[39m(li))\n",
      "\u001b[1;31mTypeError\u001b[0m: can only concatenate str (not \"int\") to str"
     ]
    }
   ],
   "source": [
    "s1 = input(\"Enter The Marks Of Subject 1 : \")\n",
    "s2 = input(\"Enter The Marks Of Subject 2 : \")\n",
    "s3 = input(\"Enter The Marks Of Subject 3 : \")\n",
    "s4 = input(\"Enter The Marks Of Subject 4 : \")\n",
    "s5 = input(\"Enter The Marks Of Subject 5 : \")\n",
    "\n",
    "fp = open(\"Marks.txt\",\"w\")\n",
    "\n",
    "fp.write(s1 + '\\n')\n",
    "fp.write(s2 + '\\n')\n",
    "fp.write(s3 + '\\n')\n",
    "fp.write(s4 + '\\n')\n",
    "fp.write(s5 + '\\n')\n",
    "\n",
    "fp.close()\n",
    "\n",
    "f1 = open(\"Marks.txt\")\n",
    "l1 = f1.read().split()\n",
    "max = 0\n",
    "for i in l1:\n",
    "    if i > (i + 1):\n",
    "        max = i\n",
    "print(max(li))\n",
    "f1.close()\n",
    "        "
   ]
  },
  {
   "cell_type": "markdown",
   "metadata": {},
   "source": [
    "### 10) WAP to write first 100 prime numbers to a file named primenumbers.txt \n",
    "(Note: each number should be in new line)"
   ]
  },
  {
   "cell_type": "code",
   "execution_count": null,
   "metadata": {},
   "outputs": [],
   "source": []
  },
  {
   "cell_type": "markdown",
   "metadata": {},
   "source": [
    "### 11) WAP to merge two files and write it in a new file."
   ]
  },
  {
   "cell_type": "code",
   "execution_count": null,
   "metadata": {},
   "outputs": [],
   "source": []
  },
  {
   "cell_type": "markdown",
   "metadata": {},
   "source": [
    "### 12) WAP to replace word1 by word2 of a text file. Write the updated data to new file."
   ]
  },
  {
   "cell_type": "code",
   "execution_count": 72,
   "metadata": {},
   "outputs": [
    {
     "name": "stdout",
     "output_type": "stream",
     "text": [
      "enter A word 1 : gdfd\n",
      "enter A word 2 : fcdbcb\n"
     ]
    }
   ],
   "source": [
    "f1 = open(\"file1.txt\")\n",
    "f2 = open(\"file2.txt\",\"w\")\n",
    "word1 = input(\"enter A word 1 : \")\n",
    "word2 = input(\"enter A word 2 : \")\n",
    "\n",
    "for i in f1:\n",
    "    i = i.replace(word1 , word2)\n",
    "    f2.write(i)\n",
    "    f2.write(\"\\n\")\n",
    "\n",
    "f1.close()\n",
    "f2.close()    "
   ]
  },
  {
   "cell_type": "markdown",
   "metadata": {},
   "source": [
    "### 13) Demonstrate tell() and seek() for all the cases(seek from beginning-end-current position) taking a suitable example of your choice."
   ]
  },
  {
   "cell_type": "code",
   "execution_count": null,
   "metadata": {},
   "outputs": [],
   "source": []
  }
 ],
 "metadata": {
  "kernelspec": {
   "display_name": "Python 3 (ipykernel)",
   "language": "python",
   "name": "python3"
  },
  "language_info": {
   "codemirror_mode": {
    "name": "ipython",
    "version": 3
   },
   "file_extension": ".py",
   "mimetype": "text/x-python",
   "name": "python",
   "nbconvert_exporter": "python",
   "pygments_lexer": "ipython3",
   "version": "3.10.9"
  }
 },
 "nbformat": 4,
 "nbformat_minor": 4
}
