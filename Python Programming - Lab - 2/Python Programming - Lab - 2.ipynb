{
 "cells": [
  {
   "cell_type": "markdown",
   "metadata": {},
   "source": [
    "\n",
    "<a href='https://www.darshan.ac.in/'> <img src='https://www.darshan.ac.in/Content/media/DU_Logo.svg' width=\"250\" height=\"300\"/></a>\n",
    "<pre>\n",
    "<center><b><h1>Python Programming - 2301CS404</b></center>\n",
    "<center><b><h1>Lab - 2</b></center>    \n",
    "<pre>"
   ]
  },
  {
   "cell_type": "markdown",
   "metadata": {},
   "source": [
    "# if..else.."
   ]
  },
  {
   "cell_type": "markdown",
   "metadata": {},
   "source": [
    "### 01) WAP to check whether the given number is positive or negative."
   ]
  },
  {
   "cell_type": "code",
   "execution_count": 5,
   "metadata": {},
   "outputs": [
    {
     "name": "stdin",
     "output_type": "stream",
     "text": [
      "Enter a Number = :  3\n"
     ]
    },
    {
     "name": "stdout",
     "output_type": "stream",
     "text": [
      "Positive\n"
     ]
    }
   ],
   "source": [
    "num = int(input(\"Enter a Number = : \"))\n",
    "if (num > 0) : \n",
    "    print(\"Positive\")\n",
    "else : \n",
    "    print(\"Negative\")"
   ]
  },
  {
   "cell_type": "markdown",
   "metadata": {},
   "source": [
    "### 02) WAP to check whether the given number is odd or even."
   ]
  },
  {
   "cell_type": "code",
   "execution_count": 7,
   "metadata": {},
   "outputs": [
    {
     "name": "stdin",
     "output_type": "stream",
     "text": [
      "Enter a Number = :  2\n"
     ]
    },
    {
     "name": "stdout",
     "output_type": "stream",
     "text": [
      "Even\n"
     ]
    }
   ],
   "source": [
    "num = int(input(\"Enter a Number = : \"))\n",
    "if (num % 2 == 0) : \n",
    "    print(\"Even\")\n",
    "else : \n",
    "    print(\"Odd\")"
   ]
  },
  {
   "cell_type": "markdown",
   "metadata": {},
   "source": [
    "### 03) WAP to find out largest number from given two numbers using simple if and ternary operator."
   ]
  },
  {
   "cell_type": "code",
   "execution_count": 21,
   "metadata": {},
   "outputs": [
    {
     "name": "stdin",
     "output_type": "stream",
     "text": [
      "Enter a Number 1 = :  23\n",
      "Enter a Number 2 = :  45\n"
     ]
    },
    {
     "name": "stdout",
     "output_type": "stream",
     "text": [
      "Number 2 larger than number 1\n"
     ]
    }
   ],
   "source": [
    "num1 = int(input(\"Enter a Number 1 = : \"))\n",
    "num2 = int(input(\"Enter a Number 2 = : \"))\n",
    "\n",
    "# if (num1 > num2) :\n",
    "#     print(\"Number 1 larger than number 2\")\n",
    "# else :\n",
    "#     print(\"Number 2 larger than number 1\")\n",
    "\n",
    "print(\"Number 1 larger than number 2\") if (num1 > num2)  else print(\"Number 2 larger than number 1\")"
   ]
  },
  {
   "cell_type": "markdown",
   "metadata": {},
   "source": [
    "### 04) WAP to find out largest number from given three numbers."
   ]
  },
  {
   "cell_type": "code",
   "execution_count": 25,
   "metadata": {},
   "outputs": [
    {
     "name": "stdin",
     "output_type": "stream",
     "text": [
      "Enter a Number 1 = :  45\n",
      "Enter a Number 2 = :  44\n",
      "Enter a Number 3 = :  34\n"
     ]
    },
    {
     "name": "stdout",
     "output_type": "stream",
     "text": [
      "number 1 is largest\n"
     ]
    }
   ],
   "source": [
    "num1 = int(input(\"Enter a Number 1 = : \"))\n",
    "num2 = int(input(\"Enter a Number 2 = : \"))\n",
    "num3 = int(input(\"Enter a Number 3 = : \"))\n",
    "\n",
    "if (num1 > num2 and num1 > num3) :\n",
    "    print(\"number 1 is largest\")\n",
    "elif (num2 > num1 and num2 > num3) :\n",
    "    print(\"number 2 is largest\")\n",
    "else :\n",
    "    print(\"number 3 is largest\")"
   ]
  },
  {
   "cell_type": "markdown",
   "metadata": {},
   "source": [
    "### 05) WAP to check whether the given year is leap year or not.\n",
    "[If a year can be divisible by 4 but not divisible by 100 then it is leap year but if it is divisible by 400 then it is leap year]"
   ]
  },
  {
   "cell_type": "code",
   "execution_count": 33,
   "metadata": {},
   "outputs": [
    {
     "name": "stdin",
     "output_type": "stream",
     "text": [
      "Enter A Year :  2024\n"
     ]
    },
    {
     "name": "stdout",
     "output_type": "stream",
     "text": [
      "Leap Year\n"
     ]
    }
   ],
   "source": [
    "year = int(input(\"Enter A Year : \"))\n",
    "\n",
    "if ((year % 4 == 0) and (not  year % 100 == 0)) or (year % 400 == 0) :\n",
    "    print(\"Leap Year\")\n",
    "else :\n",
    "    print(\"Not Leap Year\")"
   ]
  },
  {
   "cell_type": "markdown",
   "metadata": {},
   "source": [
    "### 06) WAP in python to display the name of the day according to the number given by the user."
   ]
  },
  {
   "cell_type": "code",
   "execution_count": 40,
   "metadata": {},
   "outputs": [
    {
     "name": "stdin",
     "output_type": "stream",
     "text": [
      "Enter a Number :  8\n"
     ]
    },
    {
     "name": "stdout",
     "output_type": "stream",
     "text": [
      "Enter valid Number\n"
     ]
    }
   ],
   "source": [
    "num = int(input(\"Enter a Number : \"))\n",
    "\n",
    "match num :\n",
    "    case 1:\n",
    "        print(\"Monday\")\n",
    "    case 2 : \n",
    "        print(\"Tuesday\")\n",
    "    case 3:\n",
    "        print(\"Wednesday\")\n",
    "    case 4 : \n",
    "        print(\"Thursday\")\n",
    "    case 5 :\n",
    "        print(\"Friday\")\n",
    "    case 6 :\n",
    "         print(\"Saturday\")\n",
    "    case 7:\n",
    "         print(\"Sunday\")\n",
    "    case _:\n",
    "        print(\"Enter valid Number\")"
   ]
  },
  {
   "cell_type": "markdown",
   "metadata": {},
   "source": [
    "### 07) WAP to implement simple calculator which performs (add,sub,mul,div) of two no. based on user input."
   ]
  },
  {
   "cell_type": "code",
   "execution_count": 49,
   "metadata": {},
   "outputs": [
    {
     "name": "stdin",
     "output_type": "stream",
     "text": [
      "Enter Number 1 :  4\n",
      "Enter Number 2 :  3\n",
      "Enter Operation :  -\n"
     ]
    },
    {
     "name": "stdout",
     "output_type": "stream",
     "text": [
      "Substraction is = 1\n"
     ]
    }
   ],
   "source": [
    "num1 = int(input(\"Enter Number 1 : \"))\n",
    "num2 = int(input(\"Enter Number 2 : \"))\n",
    "op = input(\"Enter Operation : \")\n",
    "\n",
    "match op :\n",
    "    case \"+\" :\n",
    "        print(f\"Addition is = {num1 + num2}\")\n",
    "    case \"-\" :\n",
    "        print(f\"Substraction is = {num1 - num2}\")\n",
    "    case \"*\" :\n",
    "        print(f\"Multiplication is = {num1 * num2}\")\n",
    "    case \"/\" :\n",
    "        print(f\"Division is = {num1 / num2}\")\n",
    "    case _ :\n",
    "        print(\"Enter valid operation\")\n"
   ]
  },
  {
   "cell_type": "markdown",
   "metadata": {},
   "source": [
    "### 08) WAP to read marks of five subjects. Calculate percentage and print class accordingly. \n",
    "Fail below 35 </br>\n",
    "Pass Class between 35 to 45 </br>\n",
    "Second Class</br>\n",
    "between 45 to 60</br>\n",
    "First Class between 60 to 70</br> \n",
    "Distinction if more than 70"
   ]
  },
  {
   "cell_type": "code",
   "execution_count": 51,
   "metadata": {},
   "outputs": [
    {
     "name": "stdin",
     "output_type": "stream",
     "text": [
      "Enter the marks of Subject 1 :  12\n",
      "Enter the marks of Subject 2 :  12\n",
      "Enter the marks of Subject 3 :  12\n",
      "Enter the marks of Subject 4 :  12\n",
      "Enter the marks of Subject 5 :  12\n"
     ]
    },
    {
     "name": "stdout",
     "output_type": "stream",
     "text": [
      "Fail Class\n"
     ]
    }
   ],
   "source": [
    "m1 = int(input(\"Enter the marks of Subject 1 : \"))\n",
    "m2 = int(input(\"Enter the marks of Subject 2 : \"))\n",
    "m3 = int(input(\"Enter the marks of Subject 3 : \"))\n",
    "m4 = int(input(\"Enter the marks of Subject 4 : \"))\n",
    "m5 = int(input(\"Enter the marks of Subject 5 : \"))\n",
    "percentage = (m1 + m2 + m3 + m4 + m5) / 5\n",
    "\n",
    "if percentage > 70 :\n",
    "    print(\"Distinction class\")\n",
    "elif percentage > 60 and percentage < 70 :\n",
    "    print(\"First Class\")\n",
    "elif percentage > 45 and percentage < 60 :\n",
    "    print(\"Second Class\")\n",
    "elif percentage > 35 and percentage < 45 :\n",
    "    print(\"Pass Class\")\n",
    "else :\n",
    "    print(\"Fail Class\")\n"
   ]
  },
  {
   "cell_type": "markdown",
   "metadata": {},
   "source": [
    "### 09) Three sides of a triangle are entered through the keyboard, WAP to check whether the triangle is isosceles, equilateral, scalene or right-angled triangle."
   ]
  },
  {
   "cell_type": "code",
   "execution_count": 65,
   "metadata": {},
   "outputs": [
    {
     "name": "stdin",
     "output_type": "stream",
     "text": [
      "Enter the side 1 :  3\n",
      "Enter the side 2 :  4\n",
      "Enter the side 3 :  5\n"
     ]
    },
    {
     "name": "stdout",
     "output_type": "stream",
     "text": [
      "Right angled\n"
     ]
    }
   ],
   "source": [
    "s1 = int(input(\"Enter the side 1 : \"))\n",
    "s2 = int(input(\"Enter the side 2 : \"))\n",
    "s3 = int(input(\"Enter the side 3 : \"))\n",
    "\n",
    "if s1 == s2 and s1 == s3 :\n",
    "    print(\"Equilateral\")\n",
    "elif s1 == s2 or s1 == s3 :\n",
    "    print(\"isosceles\")\n",
    "elif s1 != s2 and s2 != s3 and s1 != s3 :\n",
    "    if (pow(s1,2) + pow(s2,2) == pow(s3,2) or pow(s2,2) + pow(s3,2) == pow(s1,2) or pow(s1,2) + pow(s3,2) == pow(s2,2)) :\n",
    "        print(\"Right angled\")\n",
    "else :\n",
    "    print(\"scalene\")"
   ]
  },
  {
   "cell_type": "code",
   "execution_count": null,
   "metadata": {},
   "outputs": [],
   "source": []
  },
  {
   "cell_type": "markdown",
   "metadata": {},
   "source": [
    "### 10) WAP to find the second largest number among three user input numbers."
   ]
  },
  {
   "cell_type": "code",
   "execution_count": 67,
   "metadata": {},
   "outputs": [
    {
     "name": "stdin",
     "output_type": "stream",
     "text": [
      "Enter a Number 1 = :  1\n",
      "Enter a Number 2 = :  2\n",
      "Enter a Number 3 = :  3\n"
     ]
    },
    {
     "name": "stdout",
     "output_type": "stream",
     "text": [
      "Number 2 is second largest number\n"
     ]
    }
   ],
   "source": [
    "num1 = int(input(\"Enter a Number 1 = : \"))\n",
    "num2 = int(input(\"Enter a Number 2 = : \"))\n",
    "num3 = int(input(\"Enter a Number 3 = : \"))\n",
    "\n",
    "if num1 > num2 :\n",
    "    if num1 > num3 :\n",
    "        print(\"Number 3 is second largest number\")\n",
    "    else :\n",
    "        print(\"Number 1 is second largest number\")\n",
    "elif num2 > num1 :\n",
    "    if num2 > num3 :\n",
    "        print(\"Number 3 is second largest number\")\n",
    "    else :\n",
    "        print(\"Number 2 is second largest number\")"
   ]
  },
  {
   "cell_type": "markdown",
   "metadata": {},
   "source": [
    "### 11) WAP to calculate electricity bill based on following criteria. Which takes the unit from the user.\n",
    "a. First 1 to 50 units – Rs. 2.60/unit</br>\n",
    "b. Next 50 to 100 units – Rs. 3.25/unit</br>\n",
    "c. Next 100 to 200 units – Rs. 5.26/unit</br>\n",
    "d. above 200 units – Rs. 8.45/unit"
   ]
  },
  {
   "cell_type": "code",
   "execution_count": 75,
   "metadata": {},
   "outputs": [
    {
     "name": "stdin",
     "output_type": "stream",
     "text": [
      "Enter the Unit Amount :  12\n"
     ]
    },
    {
     "name": "stdout",
     "output_type": "stream",
     "text": [
      "The bill is 31.200000000000003\n"
     ]
    }
   ],
   "source": [
    "unit = int(input(\"Enter the Unit Amount : \"))\n",
    "bill = 0;\n",
    "\n",
    "if unit > 200 :\n",
    "    bill = unit * 8.45\n",
    "elif unit > 100 and unit < 200 :\n",
    "    bill = unit * 5.26\n",
    "elif unit > 50 and unit < 100 :\n",
    "    bill = unit * 3.25\n",
    "elif unit > 1 and unit < 50 :\n",
    "    bill = unit * 2.60\n",
    "\n",
    "print(f\"The bill is {bill}\")"
   ]
  },
  {
   "cell_type": "code",
   "execution_count": null,
   "metadata": {},
   "outputs": [],
   "source": []
  }
 ],
 "metadata": {
  "kernelspec": {
   "display_name": "Python 3 (ipykernel)",
   "language": "python",
   "name": "python3"
  },
  "language_info": {
   "codemirror_mode": {
    "name": "ipython",
    "version": 3
   },
   "file_extension": ".py",
   "mimetype": "text/x-python",
   "name": "python",
   "nbconvert_exporter": "python",
   "pygments_lexer": "ipython3",
   "version": "3.12.7"
  }
 },
 "nbformat": 4,
 "nbformat_minor": 4
}
